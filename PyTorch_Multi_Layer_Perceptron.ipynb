{
 "cells": [
  {
   "cell_type": "markdown",
   "metadata": {},
   "source": [
    "# PyTorch Assignment: Multi-Layer Perceptron (MLP)"
   ]
  },
  {
   "cell_type": "markdown",
   "metadata": {},
   "source": [
    "**[Duke Community Standard](http://integrity.duke.edu/standard.html): By typing your name below, you are certifying that you have adhered to the Duke Community Standard in completing this assignment.**\n",
    "\n",
    "Name: Kevin Politz"
   ]
  },
  {
   "cell_type": "markdown",
   "metadata": {},
   "source": [
    "### Multi-Layer Perceptrons\n",
    "\n",
    "The simple logistic regression example we went over in the previous notebook is essentially a one-layer neural network, projecting straight from the input to the output predictions.\n",
    "While this can be effective for linearly separable data, occasionally a little more complexity is necessary.\n",
    "Neural networks with additional layers are typically able to learn more complex functions, leading to better performance.\n",
    "These additional layers (called \"hidden\" layers) transform the input into one or more intermediate representations before making a final prediction.\n",
    "\n",
    "In the logistic regression example, the way we performed the transformation was with a fully-connected layer, which consisted of a linear transform (matrix multiply plus a bias).\n",
    "A neural network consisting of multiple successive fully-connected layers is commonly called a Multi-Layer Perceptron (MLP). \n",
    "In the simple MLP below, a 4-d input is projected to a 5-d hidden representation, which is then projected to a single output that is used to make the final prediction.\n",
    "\n",
    "<img src=\"Figures/MLP.png\" width=\"300\"/>\n",
    "\n",
    "For the assignment, you will be building a MLP for MNIST.\n",
    "Mechanically, this is done very similary to our logistic regression example, but instead of going straight to a 10-d vector representing our output predictions, we might first transform to a 500-d vector with a \"hidden\" layer, then to the output of dimension 10.\n",
    "Before you do so, however, there's one more important thing to consider.\n",
    "\n",
    "### Nonlinearities\n",
    "\n",
    "We typically include nonlinearities between layers of a neural network.\n",
    "There's a number of reasons to do so.\n",
    "For one, without anything nonlinear between them, successive linear transforms (fully connected layers) collapse into a single linear transform, which means the model isn't any more expressive than a single layer.\n",
    "On the other hand, intermediate nonlinearities prevent this collapse, allowing neural networks to approximate more complex functions.\n",
    "\n",
    "There are a number of nonlinearities commonly used in neural networks, but one of the most popular is the [rectified linear unit (ReLU)](https://en.wikipedia.org/wiki/Rectifier_(neural_networks)):\n",
    "\n",
    "\\begin{align}\n",
    "x = \\max(0,x)\n",
    "\\end{align}\n",
    "\n",
    "There are a number of ways to implement this in PyTorch.\n",
    "We could do it with elementary PyTorch operations:"
   ]
  },
  {
   "cell_type": "code",
   "execution_count": 12,
   "metadata": {
    "scrolled": true
   },
   "outputs": [
    {
     "name": "stdout",
     "output_type": "stream",
     "text": [
      "x: tensor([[ 0.5709, -0.0611,  0.8234],\n",
      "        [-0.2526,  0.7172,  0.8675],\n",
      "        [-0.8701,  0.0667,  0.3084],\n",
      "        [ 0.2772, -0.4183, -0.3161],\n",
      "        [-0.5519, -0.9532,  0.4275]])\n",
      "x after ReLU with max: tensor([[0.5709, 0.0000, 0.8234],\n",
      "        [0.0000, 0.7172, 0.8675],\n",
      "        [0.0000, 0.0667, 0.3084],\n",
      "        [0.2772, 0.0000, 0.0000],\n",
      "        [0.0000, 0.0000, 0.4275]])\n"
     ]
    }
   ],
   "source": [
    "import torch\n",
    "\n",
    "x = torch.rand(5, 3)*2 - 1\n",
    "x_relu_max = torch.max(torch.zeros_like(x),x)\n",
    "\n",
    "print(\"x: {}\".format(x))\n",
    "print(\"x after ReLU with max: {}\".format(x_relu_max))"
   ]
  },
  {
   "cell_type": "markdown",
   "metadata": {},
   "source": [
    "Of course, PyTorch also has the ReLU implemented, for example in `torch.nn.functional`:"
   ]
  },
  {
   "cell_type": "code",
   "execution_count": 13,
   "metadata": {},
   "outputs": [
    {
     "name": "stdout",
     "output_type": "stream",
     "text": [
      "x after ReLU with nn.functional: tensor([[0.5709, 0.0000, 0.8234],\n",
      "        [0.0000, 0.7172, 0.8675],\n",
      "        [0.0000, 0.0667, 0.3084],\n",
      "        [0.2772, 0.0000, 0.0000],\n",
      "        [0.0000, 0.0000, 0.4275]])\n"
     ]
    }
   ],
   "source": [
    "import torch.nn.functional as F\n",
    "\n",
    "x_relu_F = F.relu(x)\n",
    "\n",
    "print(\"x after ReLU with nn.functional: {}\".format(x_relu_F))"
   ]
  },
  {
   "cell_type": "markdown",
   "metadata": {},
   "source": [
    "Same result."
   ]
  },
  {
   "cell_type": "markdown",
   "metadata": {},
   "source": [
    "### Assignment\n",
    "\n",
    "Build a 2-layer MLP for MNIST digit classfication. Feel free to play around with the model architecture and see how the training time/performance changes, but to begin, try the following:\n",
    "\n",
    "Image (784 dimensions) ->  \n",
    "fully connected layer (500 hidden units) -> nonlinearity (ReLU) ->  \n",
    "fully connected (10 hidden units) -> softmax\n",
    "\n",
    "Try building the model both with basic PyTorch operations, and then again with more object-oriented higher-level APIs. \n",
    "You should get similar results!\n",
    "\n",
    "\n",
    "*Some hints*:\n",
    "- Even as we add additional layers, we still only require a single optimizer to learn the parameters.\n",
    "Just make sure to pass all parameters to it!\n",
    "- As you'll calculate in the Short Answer, this MLP model has many more parameters than the logisitic regression example, which makes it more challenging to learn.\n",
    "To get the best performance, you may want to play with the learning rate and increase the number of training epochs.\n",
    "- Be careful using `torch.nn.CrossEntropyLoss()`. \n",
    "If you look at the [PyTorch documentation](https://pytorch.org/docs/stable/nn.html#crossentropyloss): you'll see that `torch.nn.CrossEntropyLoss()` combines the softmax operation with the cross-entropy.\n",
    "This means you need to pass in the logits (predictions pre-softmax) to this loss.\n",
    "Computing the softmax separately and feeding the result into `torch.nn.CrossEntropyLoss()` will significantly degrade your model's performance!"
   ]
  },
  {
   "cell_type": "code",
   "execution_count": 16,
   "metadata": {},
   "outputs": [
    {
     "name": "stderr",
     "output_type": "stream",
     "text": [
      "100%|██████████| 6000/6000 [06:39<00:00, 15.02it/s]\n",
      "100%|██████████| 1000/1000 [00:27<00:00, 36.49it/s]"
     ]
    },
    {
     "name": "stdout",
     "output_type": "stream",
     "text": [
      "Accuracy: 91.60000000000001 %\n"
     ]
    },
    {
     "name": "stderr",
     "output_type": "stream",
     "text": [
      "\n"
     ]
    }
   ],
   "source": [
    "### YOUR CODE HERE\n",
    "\n",
    "\n",
    "import torch\n",
    "import torch.nn as nn\n",
    "import torch.nn.functional as F\n",
    "import numpy as np\n",
    "import matplotlib.pyplot as plt\n",
    "\n",
    "from tqdm import tqdm\n",
    "from torchvision import datasets,transforms\n",
    "\n",
    "trainset = datasets.MNIST(root=\"./datasets\", train=True, transform=transforms.ToTensor(), download=True)\n",
    "testset = datasets.MNIST(root=\"./datasets\", train=False, transform=transforms.ToTensor(), download=True)\n",
    "\n",
    "trainloader = torch.utils.data.DataLoader(trainset, batch_size = 10, shuffle = False)\n",
    "testloader = torch.utils.data.DataLoader(testset, batch_size = 10, shuffle = True)\n",
    "\n",
    "class MNIST_MLP_model(nn.Module):\n",
    "  def __init__(self):\n",
    "    super().__init__()\n",
    "    #two layers\n",
    "    #first layer: in_features = 784, out_features = 500, bias = True\n",
    "    self.fc1 = nn.Linear(28*28,500)\n",
    "    #second layer: in_features = 500, out_features = 10, bias = True\n",
    "    self.fc2 = nn.Linear(500,10)\n",
    "    \n",
    "#     #three layers and dropout layer\n",
    "#     self.fc1 = nn.Linear(28 * 28, 512)\n",
    "#     # linear layer (n_hidden -> hidden_2)\n",
    "#     self.fc2 = nn.Linear(512, 512)\n",
    "#     # linear layer (n_hidden -> 10)\n",
    "#     self.fc3 = nn.Linear(512, 10)\n",
    "#     # dropout layer (p=0.2) to prevent overfitting\n",
    "#     self.dropout = nn.Dropout(0.2)\n",
    "    \n",
    "  def forward(self, x):\n",
    "    # flatten image input\n",
    "    x = x.view(-1, 28 * 28)\n",
    "    # add hidden layer, with relu activation function\n",
    "    y = F.relu(self.fc1(x))\n",
    "    z = F.relu(self.fc2(y))\n",
    "    return z\n",
    "\n",
    "batches = iter(trainloader)\n",
    "\n",
    "#create model\n",
    "mymodel = MNIST_MLP_model()\n",
    "\n",
    "#specify optimizer\n",
    "optimizer = torch.optim.SGD(mymodel.parameters(),lr=0.01)\n",
    "\n",
    "#specify loss function\n",
    "Loss = nn.CrossEntropyLoss()\n",
    "\n",
    "for batch in tqdm(batches):\n",
    "    images,labels = batch\n",
    "    \n",
    "    #zero out gradients\n",
    "    optimizer.zero_grad()\n",
    "    \n",
    "    #forward pass\n",
    "    Y = mymodel.forward(images.view(-1,28*28))\n",
    "    \n",
    "    #calculate loss\n",
    "    loss = Loss(Y,labels)\n",
    "    \n",
    "    #backward pass: compute gradient of the loss with respect to model parameters\n",
    "    loss.backward()\n",
    "    \n",
    "    #update parameter step\n",
    "    optimizer.step()\n",
    "\n",
    "test_batch = iter(testloader)\n",
    "correct = 0\n",
    "total = 0\n",
    "\n",
    "for batch in tqdm(test_batch):\n",
    "  images,labels = batch\n",
    "  for img,lbl in zip(images,labels):\n",
    "    Y = mymodel.forward(img.view(-1,28*28))\n",
    "    label = torch.argmax(Y,dim = 1)\n",
    "    if(label == lbl): correct+=1\n",
    "    total+=1\n",
    "\n",
    "print(f\"Accuracy: {(correct/total)*100} %\")\n",
    "\n",
    "\n",
    "# Make sure to print out your accuracy on the test set at the end."
   ]
  },
  {
   "cell_type": "markdown",
   "metadata": {},
   "source": [
    "### Short answer\n",
    "How many trainable parameters does your model have? \n",
    "How does this compare to the logisitic regression example?"
   ]
  },
  {
   "cell_type": "code",
   "execution_count": 17,
   "metadata": {},
   "outputs": [
    {
     "name": "stdout",
     "output_type": "stream",
     "text": [
      "fc1.weight tensor([[ 0.0067, -0.0180, -0.0227,  ...,  0.0101,  0.0353,  0.0090],\n",
      "        [ 0.0211,  0.0099, -0.0144,  ..., -0.0089, -0.0057, -0.0168],\n",
      "        [ 0.0298,  0.0033, -0.0278,  ..., -0.0344, -0.0006,  0.0214],\n",
      "        ...,\n",
      "        [ 0.0281, -0.0298, -0.0103,  ..., -0.0140, -0.0165, -0.0309],\n",
      "        [ 0.0080,  0.0093,  0.0200,  ...,  0.0275, -0.0325, -0.0252],\n",
      "        [ 0.0354, -0.0256,  0.0322,  ...,  0.0212,  0.0172,  0.0347]])\n",
      "fc1.bias tensor([ 3.0693e-02,  6.8581e-03,  7.1534e-03, -2.8332e-02,  3.4673e-03,\n",
      "         1.7153e-02,  2.4524e-02,  6.5768e-02, -3.2880e-02, -3.1936e-02,\n",
      "         1.4670e-02,  3.6502e-02,  8.9614e-03,  8.0552e-03, -3.9951e-02,\n",
      "        -1.6808e-02, -2.2027e-02,  3.5170e-02,  2.4352e-02,  2.2030e-02,\n",
      "        -4.8020e-03,  4.8080e-03,  4.8234e-02,  8.1384e-03, -1.1934e-02,\n",
      "        -4.1058e-04, -1.2611e-02,  5.5718e-02,  2.5842e-02,  8.3321e-03,\n",
      "         3.0011e-02, -1.6272e-02, -4.7523e-02,  4.4875e-02,  5.5335e-02,\n",
      "         1.1136e-02,  3.8889e-02, -3.7705e-03,  2.9891e-02, -1.9579e-02,\n",
      "         1.9380e-02,  2.5494e-02,  7.8195e-02, -1.4338e-02,  8.0450e-03,\n",
      "         5.9114e-02,  2.1100e-02,  3.9653e-02,  1.8892e-02,  1.1896e-02,\n",
      "        -9.1131e-03, -1.2092e-02, -1.1990e-02, -3.1081e-02, -3.1367e-03,\n",
      "        -5.9078e-03, -2.7334e-02,  1.1291e-02,  3.3234e-02,  5.0470e-03,\n",
      "         1.1383e-02, -2.9606e-02, -3.3497e-02,  1.3118e-02, -5.0162e-03,\n",
      "         1.8257e-02, -1.0191e-02, -2.2269e-02,  3.7934e-02,  7.7360e-02,\n",
      "         1.5879e-02, -1.7583e-02, -2.0767e-03,  1.0960e-02, -9.0345e-03,\n",
      "        -2.4927e-02,  2.4766e-02, -2.7609e-02,  1.8289e-02,  4.7186e-03,\n",
      "         8.7652e-03,  1.7664e-02, -1.7825e-02,  5.1886e-02,  1.9896e-02,\n",
      "        -7.2993e-03,  1.5555e-02,  1.8122e-02,  4.0393e-02,  1.1421e-02,\n",
      "         4.8554e-02,  8.3607e-03, -6.7001e-03,  1.7513e-02, -1.7375e-02,\n",
      "         3.4981e-03, -2.2139e-02,  3.1646e-03, -3.0407e-02, -1.5926e-02,\n",
      "         9.0403e-03,  5.8522e-02,  1.6851e-02,  3.2074e-02,  5.2158e-02,\n",
      "         1.6035e-02, -2.9820e-02,  7.1735e-03, -1.2098e-02,  6.5977e-02,\n",
      "         1.8206e-02,  5.5006e-02, -2.0587e-02,  2.8509e-03,  5.9642e-03,\n",
      "        -1.4803e-03,  4.7298e-02, -2.6602e-02, -2.4663e-02, -7.1573e-03,\n",
      "         5.1257e-02,  5.1776e-02,  2.2996e-02, -3.6040e-03, -6.4851e-03,\n",
      "         2.4403e-02, -2.5476e-02, -9.3844e-03,  3.2240e-02,  4.4712e-02,\n",
      "         1.2577e-02, -7.0215e-03,  2.3126e-02, -1.3704e-02,  4.1964e-02,\n",
      "        -1.4286e-02, -2.4254e-03,  3.4756e-02, -4.1930e-02,  1.6659e-02,\n",
      "        -3.1856e-02, -2.5369e-02, -5.5828e-03, -2.9648e-02,  3.6222e-02,\n",
      "         4.1592e-02,  5.4225e-02,  2.6960e-02,  1.6558e-02, -1.6232e-02,\n",
      "         1.5886e-02,  1.1518e-02, -1.2189e-02, -1.9212e-02,  2.7620e-02,\n",
      "         2.7753e-02,  4.8971e-03, -9.2174e-03,  2.9703e-02, -1.9208e-02,\n",
      "        -1.6181e-03,  4.9716e-02,  2.0444e-02,  7.5419e-02,  4.9671e-02,\n",
      "         5.3603e-02,  9.4874e-03,  4.8535e-02,  2.0671e-02, -1.1853e-02,\n",
      "         1.0883e-02,  9.3687e-03,  1.0546e-02,  4.6226e-02,  2.6477e-02,\n",
      "         9.8814e-03,  1.2479e-02, -8.1068e-03, -1.0620e-02,  6.2217e-02,\n",
      "        -4.3614e-02, -1.2810e-03, -5.4521e-03,  3.3582e-02, -8.1582e-03,\n",
      "        -9.1183e-03,  1.0481e-02,  3.4305e-02, -2.2724e-02,  6.3879e-02,\n",
      "        -3.2538e-02,  1.8475e-02,  1.8981e-03,  5.2380e-02,  3.0638e-02,\n",
      "         3.1831e-02, -1.6407e-02,  3.8443e-02,  1.8184e-02,  1.9348e-02,\n",
      "         1.4281e-02,  4.9552e-04,  3.4436e-02, -5.1401e-03, -6.2579e-03,\n",
      "         3.8833e-02, -4.3790e-03, -5.6352e-03,  3.9267e-02,  3.6687e-02,\n",
      "         8.4916e-03, -1.6463e-03,  1.0575e-02, -2.3345e-02, -2.9046e-02,\n",
      "         1.2690e-02,  4.3615e-03,  2.7651e-02,  8.4816e-03, -3.1700e-02,\n",
      "        -9.0853e-03,  2.4518e-02, -2.5819e-02, -4.9954e-03,  3.9256e-02,\n",
      "         2.6131e-02, -1.9898e-02,  5.8609e-02,  1.1796e-02, -2.9220e-03,\n",
      "        -7.1727e-03,  2.1837e-02,  1.3384e-02,  1.8454e-02,  2.5476e-03,\n",
      "         1.7229e-02, -1.8525e-02,  1.7415e-02, -4.8641e-03,  2.4542e-02,\n",
      "         4.9996e-02,  1.3171e-02, -6.8365e-03,  1.4370e-03,  2.8379e-02,\n",
      "        -7.0362e-03,  5.0176e-02,  2.4368e-03,  4.1217e-02,  3.0694e-02,\n",
      "         3.0298e-03,  2.0551e-03,  3.7608e-03,  3.9404e-03, -1.4966e-04,\n",
      "         6.5842e-03, -7.5203e-02,  3.6269e-02,  4.5429e-02,  2.8117e-02,\n",
      "         2.5776e-02,  4.1685e-02,  5.8211e-02, -1.7442e-02, -2.6481e-02,\n",
      "         2.5025e-02,  7.3230e-03,  1.1189e-02, -3.0869e-03,  1.9149e-02,\n",
      "         3.2457e-02,  1.0666e-02,  1.3509e-02, -1.3329e-02,  7.4749e-03,\n",
      "         5.7761e-03,  3.7888e-02,  3.2327e-02,  4.2423e-02,  4.2049e-02,\n",
      "         2.5413e-02,  1.9730e-02,  2.7010e-03, -9.1570e-03,  1.0371e-02,\n",
      "        -2.3756e-02, -2.6323e-02,  3.7527e-02,  2.4936e-02,  1.9946e-02,\n",
      "         6.3934e-02,  1.6905e-02, -2.1659e-02,  1.9851e-02,  3.1128e-02,\n",
      "         3.0247e-02, -8.1634e-03, -9.1440e-04,  4.9152e-02, -3.9773e-02,\n",
      "         1.2095e-02, -2.1591e-02,  1.3864e-02,  6.0977e-02,  5.0063e-02,\n",
      "         2.9312e-02, -1.6962e-02,  2.0266e-02, -1.9021e-02,  5.3897e-02,\n",
      "         3.7794e-02,  4.0847e-02, -1.5289e-02, -3.0444e-02, -2.3193e-02,\n",
      "        -1.6447e-02,  2.2155e-02,  1.3696e-02,  5.2548e-02, -8.5040e-03,\n",
      "        -2.0627e-02,  3.2288e-02, -1.4893e-02,  5.3927e-02,  6.1021e-03,\n",
      "        -7.1207e-03, -8.5447e-03,  1.7743e-02, -5.7517e-03, -4.4638e-02,\n",
      "        -5.9564e-03,  2.0643e-02,  5.0718e-02, -8.3833e-03,  4.4911e-02,\n",
      "        -2.5833e-02, -5.0544e-02,  3.7098e-03,  3.8483e-02, -1.7179e-02,\n",
      "         5.6887e-03, -2.1691e-02,  5.1060e-02,  3.8564e-02,  3.3581e-02,\n",
      "        -3.0578e-02,  9.5052e-03,  1.5811e-02,  2.2799e-02,  7.9290e-02,\n",
      "        -7.3816e-05,  4.7498e-02,  3.3704e-02,  1.3498e-02,  4.0183e-02,\n",
      "         1.4631e-02,  1.7326e-02, -1.4451e-02,  1.2255e-03,  8.9377e-02,\n",
      "         2.9503e-02,  5.3610e-02, -2.6350e-02, -3.1217e-02,  1.6513e-02,\n",
      "        -6.3235e-03,  2.0389e-03,  9.8405e-04, -1.3705e-03,  4.5445e-03,\n",
      "        -1.3411e-02, -2.5477e-02,  7.9529e-03,  3.2256e-02,  4.6592e-02,\n",
      "         1.9020e-02,  6.4091e-03,  5.0445e-03, -1.7996e-02,  4.7059e-02,\n",
      "        -1.8869e-02,  1.8338e-03,  4.8823e-02, -2.1446e-02,  6.1008e-02,\n",
      "         8.1521e-03,  2.8399e-02,  5.5890e-02, -1.7781e-03, -2.4125e-03,\n",
      "        -2.6218e-02, -9.5789e-03,  3.9608e-02,  7.4077e-03,  2.5419e-02,\n",
      "        -6.1520e-03,  3.7789e-02,  4.5272e-04, -1.4955e-02,  5.9744e-03,\n",
      "         8.0093e-02, -1.0776e-02,  1.4221e-02,  1.5983e-02,  4.2982e-02,\n",
      "         1.6928e-02,  1.6237e-02,  1.0596e-02,  6.0459e-02,  4.3642e-02,\n",
      "         1.5331e-03, -1.2550e-02, -1.2676e-02,  2.9616e-02, -2.5700e-02,\n",
      "         3.5706e-02, -8.7497e-03,  4.3829e-02,  1.5330e-02,  5.3792e-02,\n",
      "         4.9117e-02, -4.1592e-03, -1.6905e-02,  4.5249e-02, -3.0442e-04,\n",
      "        -3.4956e-02,  1.5276e-02, -2.7354e-02,  3.4340e-02,  6.8623e-03,\n",
      "         5.0559e-02,  5.4292e-02,  3.7514e-02, -1.8758e-02,  5.4947e-02,\n",
      "         2.2128e-02,  3.4850e-02,  3.9288e-02, -4.0630e-02,  1.3897e-03,\n",
      "        -1.7731e-04,  4.8657e-02,  2.2572e-02,  4.4240e-02, -6.3339e-02,\n",
      "         2.5846e-03,  5.9123e-02, -3.7156e-02,  2.3323e-02, -1.8989e-02,\n",
      "        -1.2802e-02,  4.7142e-03, -3.0472e-02, -6.0756e-03, -2.0971e-02,\n",
      "         1.9266e-02,  2.6845e-02, -1.7222e-02,  2.8152e-02,  2.3399e-02,\n",
      "         2.9198e-02,  3.1813e-02,  1.5528e-02, -2.4756e-02,  3.3703e-02,\n",
      "         7.1885e-02, -2.4517e-02,  3.6769e-02, -3.2155e-02,  1.5745e-02,\n",
      "         7.6909e-02, -1.4224e-02, -2.1875e-02, -2.6881e-02,  1.8749e-02,\n",
      "         1.5678e-02, -3.6042e-03,  7.6196e-03, -1.4595e-03, -8.6702e-03,\n",
      "         2.6077e-02,  3.2799e-02, -8.0921e-03,  1.4545e-02, -1.0413e-02,\n",
      "        -5.7928e-03, -3.8329e-02,  3.6398e-02, -4.5698e-03, -1.0138e-02,\n",
      "         2.3422e-02,  3.5734e-02,  3.1037e-02,  1.8107e-02, -5.1875e-03,\n",
      "         5.8346e-02,  5.5042e-02,  4.2428e-02, -3.8745e-02,  2.4836e-02])\n",
      "fc2.weight tensor([[ 0.0716, -0.0090, -0.0831,  ..., -0.0638,  0.0125, -0.0445],\n",
      "        [ 0.0154,  0.0400,  0.1704,  ...,  0.0674,  0.0052,  0.1015],\n",
      "        [-0.0875,  0.0769, -0.0590,  ...,  0.0291,  0.0141,  0.0548],\n",
      "        ...,\n",
      "        [-0.0192, -0.0744, -0.0415,  ...,  0.1756,  0.0072,  0.0178],\n",
      "        [ 0.1094,  0.1288,  0.0539,  ...,  0.0344,  0.0514,  0.0490],\n",
      "        [ 0.0154, -0.0993,  0.0918,  ..., -0.0783, -0.0044, -0.0884]])\n",
      "fc2.bias tensor([-0.0444,  0.2674,  0.0350, -0.0283,  0.0757,  0.3049,  0.0291,  0.1897,\n",
      "        -0.2546,  0.0330])\n"
     ]
    }
   ],
   "source": [
    "for name, param in mymodel.named_parameters():\n",
    "    if param.requires_grad:\n",
    "        print(name, param.data)"
   ]
  },
  {
   "cell_type": "code",
   "execution_count": null,
   "metadata": {},
   "outputs": [],
   "source": []
  }
 ],
 "metadata": {
  "kernelspec": {
   "display_name": "Python 3",
   "language": "python",
   "name": "python3"
  },
  "language_info": {
   "codemirror_mode": {
    "name": "ipython",
    "version": 3
   },
   "file_extension": ".py",
   "mimetype": "text/x-python",
   "name": "python",
   "nbconvert_exporter": "python",
   "pygments_lexer": "ipython3",
   "version": "3.7.6"
  }
 },
 "nbformat": 4,
 "nbformat_minor": 2
}
