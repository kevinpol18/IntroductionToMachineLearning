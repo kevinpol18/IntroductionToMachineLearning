{
 "cells": [
  {
   "cell_type": "markdown",
   "metadata": {},
   "source": [
    "# PyTorch Assignment: Multi-Layer Perceptron (MLP)"
   ]
  },
  {
   "cell_type": "markdown",
   "metadata": {},
   "source": [
    "**[Duke Community Standard](http://integrity.duke.edu/standard.html): By typing your name below, you are certifying that you have adhered to the Duke Community Standard in completing this assignment.**\n",
    "\n",
    "Name: "
   ]
  },
  {
   "cell_type": "markdown",
   "metadata": {},
   "source": [
    "### Multi-Layer Perceptrons\n",
    "\n",
    "The simple logistic regression example we went over in the previous notebook is essentially a one-layer neural network, projecting straight from the input to the output predictions.\n",
    "While this can be effective for linearly separable data, occasionally a little more complexity is necessary.\n",
    "Neural networks with additional layers are typically able to learn more complex functions, leading to better performance.\n",
    "These additional layers (called \"hidden\" layers) transform the input into one or more intermediate representations before making a final prediction.\n",
    "\n",
    "In the logistic regression example, the way we performed the transformation was with a fully-connected layer, which consisted of a linear transform (matrix multiply plus a bias).\n",
    "A neural network consisting of multiple successive fully-connected layers is commonly called a Multi-Layer Perceptron (MLP). \n",
    "In the simple MLP below, a 4-d input is projected to a 5-d hidden representation, which is then projected to a single output that is used to make the final prediction.\n",
    "\n",
    "<img src=\"Figures/MLP.png\" width=\"300\"/>\n",
    "\n",
    "For the assignment, you will be building a MLP for MNIST.\n",
    "Mechanically, this is done very similary to our logistic regression example, but instead of going straight to a 10-d vector representing our output predictions, we might first transform to a 500-d vector with a \"hidden\" layer, then to the output of dimension 10.\n",
    "Before you do so, however, there's one more important thing to consider.\n",
    "\n",
    "### Nonlinearities\n",
    "\n",
    "We typically include nonlinearities between layers of a neural network.\n",
    "There's a number of reasons to do so.\n",
    "For one, without anything nonlinear between them, successive linear transforms (fully connected layers) collapse into a single linear transform, which means the model isn't any more expressive than a single layer.\n",
    "On the other hand, intermediate nonlinearities prevent this collapse, allowing neural networks to approximate more complex functions.\n",
    "\n",
    "There are a number of nonlinearities commonly used in neural networks, but one of the most popular is the [rectified linear unit (ReLU)](https://en.wikipedia.org/wiki/Rectifier_(neural_networks)):\n",
    "\n",
    "\\begin{align}\n",
    "x = \\max(0,x)\n",
    "\\end{align}\n",
    "\n",
    "There are a number of ways to implement this in PyTorch.\n",
    "We could do it with elementary PyTorch operations:"
   ]
  },
  {
   "cell_type": "code",
   "execution_count": 1,
   "metadata": {
    "scrolled": true
   },
   "outputs": [
    {
     "name": "stdout",
     "output_type": "stream",
     "text": [
      "x: tensor([[ 0.9123,  0.0382,  0.7757],\n",
      "        [-0.6771,  0.9026,  0.2795],\n",
      "        [-0.9797, -0.8080,  0.3947],\n",
      "        [ 0.0912, -0.5694, -0.5012],\n",
      "        [-0.1517, -0.0644, -0.7285]])\n",
      "x after ReLU with max: tensor([[0.9123, 0.0382, 0.7757],\n",
      "        [0.0000, 0.9026, 0.2795],\n",
      "        [0.0000, 0.0000, 0.3947],\n",
      "        [0.0912, 0.0000, 0.0000],\n",
      "        [0.0000, 0.0000, 0.0000]])\n"
     ]
    }
   ],
   "source": [
    "import torch\n",
    "\n",
    "x = torch.rand(5, 3)*2 - 1\n",
    "x_relu_max = torch.max(torch.zeros_like(x),x)\n",
    "\n",
    "print(\"x: {}\".format(x))\n",
    "print(\"x after ReLU with max: {}\".format(x_relu_max))"
   ]
  },
  {
   "cell_type": "markdown",
   "metadata": {},
   "source": [
    "Of course, PyTorch also has the ReLU implemented, for example in `torch.nn.functional`:"
   ]
  },
  {
   "cell_type": "code",
   "execution_count": 2,
   "metadata": {},
   "outputs": [
    {
     "name": "stdout",
     "output_type": "stream",
     "text": [
      "x after ReLU with nn.functional: tensor([[0.9123, 0.0382, 0.7757],\n",
      "        [0.0000, 0.9026, 0.2795],\n",
      "        [0.0000, 0.0000, 0.3947],\n",
      "        [0.0912, 0.0000, 0.0000],\n",
      "        [0.0000, 0.0000, 0.0000]])\n"
     ]
    }
   ],
   "source": [
    "import torch.nn.functional as F\n",
    "\n",
    "x_relu_F = F.relu(x)\n",
    "\n",
    "print(\"x after ReLU with nn.functional: {}\".format(x_relu_F))"
   ]
  },
  {
   "cell_type": "markdown",
   "metadata": {},
   "source": [
    "Same result."
   ]
  },
  {
   "cell_type": "markdown",
   "metadata": {},
   "source": [
    "### Assignment\n",
    "\n",
    "Build a 2-layer MLP for MNIST digit classfication. Feel free to play around with the model architecture and see how the training time/performance changes, but to begin, try the following:\n",
    "\n",
    "Image (784 dimensions) ->  \n",
    "fully connected layer (500 hidden units) -> nonlinearity (ReLU) ->  \n",
    "fully connected (10 hidden units) -> softmax\n",
    "\n",
    "Try building the model both with basic PyTorch operations, and then again with more object-oriented higher-level APIs. \n",
    "You should get similar results!\n",
    "\n",
    "\n",
    "*Some hints*:\n",
    "- Even as we add additional layers, we still only require a single optimizer to learn the parameters.\n",
    "Just make sure to pass all parameters to it!\n",
    "- As you'll calculate in the Short Answer, this MLP model has many more parameters than the logisitic regression example, which makes it more challenging to learn.\n",
    "To get the best performance, you may want to play with the learning rate and increase the number of training epochs.\n",
    "- Be careful using `torch.nn.CrossEntropyLoss()`. \n",
    "If you look at the [PyTorch documentation](https://pytorch.org/docs/stable/nn.html#crossentropyloss): you'll see that `torch.nn.CrossEntropyLoss()` combines the softmax operation with the cross-entropy.\n",
    "This means you need to pass in the logits (predictions pre-softmax) to this loss.\n",
    "Computing the softmax separately and feeding the result into `torch.nn.CrossEntropyLoss()` will significantly degrade your model's performance!"
   ]
  },
  {
   "cell_type": "code",
   "execution_count": 3,
   "metadata": {},
   "outputs": [
    {
     "name": "stderr",
     "output_type": "stream",
     "text": [
      "100%|██████████| 6000/6000 [13:23<00:00,  7.46it/s]\n",
      "100%|██████████| 1000/1000 [00:23<00:00, 43.10it/s]"
     ]
    },
    {
     "name": "stdout",
     "output_type": "stream",
     "text": [
      "Accuracy: 90.16999999999999 %\n"
     ]
    },
    {
     "name": "stderr",
     "output_type": "stream",
     "text": [
      "\n"
     ]
    }
   ],
   "source": [
    "### YOUR CODE HERE\n",
    "\n",
    "\n",
    "import torch\n",
    "import torch.nn as nn\n",
    "import torch.nn.functional as F\n",
    "import numpy as np\n",
    "import matplotlib.pyplot as plt\n",
    "\n",
    "from tqdm import tqdm\n",
    "from torchvision import datasets,transforms\n",
    "\n",
    "trainset = datasets.MNIST(root=\"./datasets\", train=True, transform=transforms.ToTensor(), download=True)\n",
    "testset = datasets.MNIST(root=\"./datasets\", train=False, transform=transforms.ToTensor(), download=True)\n",
    "\n",
    "trainloader = torch.utils.data.DataLoader(trainset, batch_size = 10, shuffle = False)\n",
    "testloader = torch.utils.data.DataLoader(testset, batch_size = 10, shuffle = True)\n",
    "\n",
    "class MNIST_MLP_model(nn.Module):\n",
    "  def __init__(self):\n",
    "    super().__init__()\n",
    "    #two layers\n",
    "    #first layer: in_features = 784, out_features = 500, bias = True\n",
    "    self.fc1 = nn.Linear(28*28,500)\n",
    "    #second layer: in_features = 500, out_features = 10, bias = True\n",
    "    self.fc2 = nn.Linear(500,10)\n",
    "    \n",
    "#     #three layers and dropout layer\n",
    "#     self.fc1 = nn.Linear(28 * 28, 512)\n",
    "#     # linear layer (n_hidden -> hidden_2)\n",
    "#     self.fc2 = nn.Linear(512, 512)\n",
    "#     # linear layer (n_hidden -> 10)\n",
    "#     self.fc3 = nn.Linear(512, 10)\n",
    "#     # dropout layer (p=0.2) to prevent overfitting\n",
    "#     self.dropout = nn.Dropout(0.2)\n",
    "    \n",
    "  def forward(self, x):\n",
    "    # flatten image input\n",
    "    x = x.view(-1, 28 * 28)\n",
    "    # add hidden layer, with relu activation function\n",
    "    x = F.relu(self.fc1(x))\n",
    "    return x\n",
    "\n",
    "batches = iter(trainloader)\n",
    "\n",
    "#create model\n",
    "mymodel = MNIST_MLP_model()\n",
    "\n",
    "#specify optimizer\n",
    "optimizer = torch.optim.SGD(mymodel.parameters(),lr=0.01)\n",
    "\n",
    "#specify loss function\n",
    "Loss = nn.CrossEntropyLoss()\n",
    "\n",
    "for batch in tqdm(batches):\n",
    "    images,labels = batch\n",
    "    \n",
    "    #zero out gradients\n",
    "    optimizer.zero_grad()\n",
    "    \n",
    "    #forward pass\n",
    "    Y = mymodel.forward(images.view(-1,28*28))\n",
    "    \n",
    "    #calculate loss\n",
    "    loss = Loss(Y,labels)\n",
    "    \n",
    "    #backward pass: compute gradient of the loss with respect to model parameters\n",
    "    loss.backward()\n",
    "    \n",
    "    #update parameter step\n",
    "    optimizer.step()\n",
    "\n",
    "test_batch = iter(testloader)\n",
    "correct = 0\n",
    "total = 0\n",
    "\n",
    "for batch in tqdm(test_batch):\n",
    "  images,labels = batch\n",
    "  for img,lbl in zip(images,labels):\n",
    "    Y = mymodel.forward(img.view(-1,28*28))\n",
    "    label = torch.argmax(Y,dim = 1)\n",
    "    if(label == lbl): correct+=1\n",
    "    total+=1\n",
    "\n",
    "print(f\"Accuracy: {(correct/total)*100} %\")\n",
    "\n",
    "\n",
    "# Make sure to print out your accuracy on the test set at the end."
   ]
  },
  {
   "cell_type": "markdown",
   "metadata": {},
   "source": [
    "### Short answer\n",
    "How many trainable parameters does your model have? \n",
    "How does this compare to the logisitic regression example?"
   ]
  },
  {
   "cell_type": "code",
   "execution_count": 6,
   "metadata": {},
   "outputs": [
    {
     "name": "stdout",
     "output_type": "stream",
     "text": [
      "fc1.weight tensor([[ 2.4900e-02, -3.4197e-02, -9.7600e-03,  ..., -2.5982e-02,\n",
      "          1.9008e-02, -8.8770e-05],\n",
      "        [ 3.2999e-02,  5.7396e-03,  3.3336e-02,  ..., -1.4518e-02,\n",
      "         -3.5606e-02, -1.8053e-02],\n",
      "        [ 9.2958e-03,  2.0254e-02,  1.1265e-02,  ...,  1.6878e-02,\n",
      "         -3.1727e-02,  5.4675e-03],\n",
      "        ...,\n",
      "        [ 1.1013e-02,  3.1099e-02, -2.6997e-04,  ...,  1.0107e-02,\n",
      "         -3.1533e-02, -6.9481e-03],\n",
      "        [-2.0901e-02,  2.7770e-02,  3.9839e-04,  ..., -9.5282e-03,\n",
      "         -1.0199e-02,  1.8007e-02],\n",
      "        [-2.8265e-02,  1.8996e-02, -1.2456e-02,  ...,  2.3261e-02,\n",
      "         -1.7390e-03,  1.2066e-02]])\n",
      "fc1.bias tensor([ 1.4591e-01,  5.6116e-01,  2.4624e-01,  2.3809e-01,  3.3524e-01,\n",
      "         5.9677e-01,  2.8187e-01,  4.7774e-01, -5.9270e-02,  2.6574e-01,\n",
      "        -9.4117e-03, -4.0620e-03,  2.6411e-02,  6.7059e-03, -2.6981e-02,\n",
      "        -3.6593e-02, -3.4353e-02, -5.2203e-04, -2.9561e-02, -2.9720e-02,\n",
      "        -1.4711e-02, -3.1881e-02, -2.7585e-02, -2.4638e-02,  1.9834e-02,\n",
      "        -1.6394e-02, -7.0459e-03, -2.0930e-02, -1.5797e-02, -3.0682e-02,\n",
      "         1.4329e-02,  1.0627e-03, -6.1428e-03, -2.4104e-02, -3.2448e-02,\n",
      "        -1.3385e-02, -6.7632e-03,  4.2432e-04,  2.4437e-02, -1.4492e-02,\n",
      "        -2.5752e-02,  2.7146e-02,  1.0253e-02, -3.1600e-02, -2.3499e-02,\n",
      "        -1.2855e-02, -1.8806e-02,  2.4773e-02,  1.1490e-02, -1.5271e-02,\n",
      "        -3.2059e-02,  1.9086e-03, -2.8441e-02,  5.4653e-03,  2.2724e-02,\n",
      "         9.9698e-03,  3.1171e-02, -1.7099e-03,  6.1035e-03,  2.0700e-02,\n",
      "        -3.0802e-02, -2.2909e-02, -1.8375e-02, -2.0286e-02,  2.5378e-02,\n",
      "        -2.9106e-02,  1.5053e-02, -1.5913e-02,  6.3331e-03, -1.4547e-02,\n",
      "        -6.8690e-03, -5.1947e-03, -2.7329e-03, -2.6966e-02, -1.6033e-02,\n",
      "        -3.0975e-02,  2.8442e-02,  2.1800e-02,  2.2911e-02, -1.3646e-02,\n",
      "        -1.6695e-02, -2.3947e-02, -2.7251e-02, -2.0127e-02, -3.2577e-02,\n",
      "         2.6893e-02,  4.0475e-03,  1.5684e-02,  1.1691e-02, -3.3699e-02,\n",
      "        -4.2681e-03,  1.1447e-02, -2.8725e-02, -1.3759e-02,  9.6721e-03,\n",
      "        -2.6180e-02, -2.5804e-02,  2.5676e-02, -1.7571e-02, -1.8243e-02,\n",
      "         7.6448e-03, -4.3918e-03, -2.5953e-02,  7.7605e-03, -3.3247e-02,\n",
      "        -2.9889e-02,  6.8999e-03,  1.1188e-02, -2.8530e-02, -8.9193e-03,\n",
      "         2.7522e-02,  2.0003e-03, -3.4299e-02, -2.8687e-03,  1.4078e-05,\n",
      "        -4.2263e-03,  2.3124e-02,  1.7573e-02, -3.1589e-02,  3.0018e-02,\n",
      "         3.0721e-02, -3.5589e-02, -2.7477e-02,  1.8157e-02, -4.0807e-03,\n",
      "        -2.5567e-02, -2.1938e-02,  1.1054e-02,  2.0598e-02,  1.1806e-02,\n",
      "         2.0214e-02,  1.2324e-02,  1.9148e-02,  2.8208e-02, -3.3348e-02,\n",
      "         3.4677e-03, -1.7200e-02, -4.1458e-03,  2.9172e-02, -2.7132e-02,\n",
      "         2.7004e-02, -2.3702e-02, -1.3110e-02,  3.3240e-03,  2.0533e-02,\n",
      "        -1.4379e-02,  1.5535e-02,  9.2561e-03, -3.4943e-03,  1.2863e-02,\n",
      "         1.7951e-03, -3.7766e-02,  1.5744e-02,  3.0187e-02,  5.8646e-03,\n",
      "        -2.6907e-02, -3.3096e-02,  4.1210e-03,  2.7671e-02,  4.5802e-03,\n",
      "         2.3580e-02, -1.3101e-02, -2.2949e-02, -2.6786e-02,  7.9225e-03,\n",
      "        -2.7503e-02, -4.2505e-03,  1.6117e-02, -1.3431e-02,  9.5730e-03,\n",
      "         3.0734e-02,  1.6537e-02, -2.9475e-02,  1.8460e-02,  6.7621e-03,\n",
      "         1.0447e-02, -2.9289e-02, -2.8985e-02,  2.5211e-02,  1.5384e-02,\n",
      "        -2.0409e-03,  8.6968e-03, -1.1340e-02, -9.7686e-03,  2.8881e-02,\n",
      "        -2.9121e-02,  1.2845e-02, -2.0729e-02, -2.1584e-02, -1.0716e-02,\n",
      "         2.1622e-02, -1.3154e-02, -6.3918e-03,  2.1491e-02, -3.7106e-03,\n",
      "         2.4454e-02, -3.4124e-02, -3.6276e-02, -2.9351e-02, -2.2253e-02,\n",
      "         9.5277e-03, -3.6182e-02,  1.5698e-02,  2.1773e-02,  3.0259e-02,\n",
      "        -1.3996e-02, -1.5570e-02, -2.5051e-02,  2.6569e-02, -4.9168e-03,\n",
      "        -1.3300e-02, -1.2888e-02,  1.2698e-02, -2.4805e-02,  1.7183e-02,\n",
      "         3.1864e-02, -2.9039e-02, -5.7100e-03, -2.0933e-02, -1.1740e-02,\n",
      "         1.2268e-02, -3.4966e-02,  2.3069e-02,  1.2987e-02,  1.8338e-03,\n",
      "         2.5812e-02, -1.7561e-02,  1.8508e-02,  1.0789e-02,  3.4207e-02,\n",
      "        -1.2919e-02,  1.6118e-02,  6.6375e-03,  9.5495e-03, -2.0644e-02,\n",
      "        -1.3954e-02, -2.0687e-02,  1.4929e-02, -2.6606e-02, -2.0748e-02,\n",
      "         2.2859e-02, -3.2200e-02,  3.1477e-03, -1.6090e-03,  1.1975e-02,\n",
      "         2.7367e-03,  2.0390e-02,  1.7378e-02, -1.4838e-02, -1.8585e-02,\n",
      "        -3.2572e-02, -2.5281e-02, -1.0065e-02, -3.1493e-02,  2.5908e-02,\n",
      "        -1.2827e-02,  3.2026e-02,  2.6793e-02, -3.6342e-02,  1.9504e-02,\n",
      "        -3.5539e-02, -4.6290e-03,  5.7054e-03,  2.9673e-02,  2.7171e-03,\n",
      "         9.8477e-03,  2.6237e-02,  4.5713e-03,  2.8321e-02,  2.5115e-02,\n",
      "        -1.5693e-02, -1.2812e-02,  2.3721e-02,  1.5748e-02,  1.8971e-02,\n",
      "        -1.0799e-02, -3.2052e-02,  2.3147e-03, -1.3742e-02, -9.3950e-03,\n",
      "         1.2866e-02, -3.5301e-02,  7.8866e-03, -2.0667e-02,  2.2728e-02,\n",
      "         1.4214e-02,  3.0132e-02,  9.7304e-03, -1.4718e-03,  5.5003e-03,\n",
      "         1.3040e-02, -3.4360e-02,  1.8611e-02,  1.1878e-02, -5.2460e-03,\n",
      "         1.4505e-02, -3.3007e-03,  2.6190e-02, -7.4023e-03,  1.8930e-02,\n",
      "         2.3596e-02,  1.4436e-02,  2.9333e-02,  1.9402e-02, -2.6735e-02,\n",
      "         2.3310e-02,  1.4809e-02, -2.9403e-02, -2.2155e-02, -1.5077e-02,\n",
      "        -1.0365e-02,  2.0690e-02,  2.2540e-02, -1.2383e-02, -3.5152e-02,\n",
      "         1.5082e-02,  7.4160e-04,  2.1158e-02, -1.2922e-02,  1.3376e-02,\n",
      "         8.7455e-03, -1.0648e-02, -9.8322e-03,  1.0677e-02,  2.8614e-02,\n",
      "         6.4120e-03,  2.3801e-02, -7.1635e-03, -1.7313e-02,  2.0875e-02,\n",
      "         6.7971e-03, -1.8854e-02,  2.0446e-02,  2.1681e-02, -2.2478e-03,\n",
      "        -3.2866e-02, -1.1022e-02,  7.4237e-03,  2.2313e-02, -1.3402e-04,\n",
      "        -1.0121e-02, -7.7900e-03,  2.4386e-02, -2.8501e-02, -8.9514e-03,\n",
      "        -2.1156e-02, -1.4603e-02, -2.1385e-03,  2.6529e-02,  4.6177e-03,\n",
      "         1.0690e-02, -1.1678e-02, -2.3278e-02,  1.3255e-02,  2.9665e-02,\n",
      "        -2.2458e-02,  1.1186e-02, -9.9599e-03,  2.5326e-02, -2.8290e-02,\n",
      "         5.5270e-03, -1.9398e-02, -1.5995e-02,  3.0441e-02,  8.9428e-04,\n",
      "         2.4931e-02,  1.7095e-02,  1.6999e-02, -1.6910e-02, -1.3814e-02,\n",
      "        -3.6967e-02,  1.9546e-02,  2.6045e-02, -2.5290e-02,  1.9712e-02,\n",
      "        -2.0364e-02, -7.9016e-03,  2.2515e-02, -1.9094e-02,  4.7768e-03,\n",
      "        -3.5198e-02, -1.9905e-02,  2.6093e-02, -6.2405e-03, -1.7377e-04,\n",
      "        -1.1672e-02, -2.0842e-02, -1.6849e-02,  1.5524e-02, -2.7198e-02,\n",
      "        -1.8413e-02,  3.0132e-02, -3.2175e-02, -2.0298e-02,  2.9670e-02,\n",
      "        -3.2505e-02,  1.4367e-02, -2.2871e-02, -2.9475e-02, -3.2263e-02,\n",
      "        -3.1487e-02, -4.1560e-03, -1.7872e-02, -3.0948e-02, -4.2299e-03,\n",
      "         2.2059e-02,  1.2191e-02,  2.5683e-02,  1.9062e-03, -3.0266e-02,\n",
      "        -8.1457e-03,  1.0440e-02, -5.1508e-03,  1.0211e-02, -2.5614e-02,\n",
      "         2.6746e-02,  2.9753e-02, -1.9757e-02,  3.2062e-02, -3.1171e-02,\n",
      "         2.2978e-02, -1.6018e-02, -1.4096e-02,  4.1477e-03, -1.8780e-03,\n",
      "        -3.4976e-03, -3.9723e-03, -1.0251e-02,  2.4689e-02,  1.6131e-02,\n",
      "        -1.0628e-02,  1.6750e-02,  1.5420e-02, -1.0672e-02,  1.5257e-02,\n",
      "         1.2603e-02,  1.9553e-02,  2.2444e-02,  2.1064e-02, -1.6870e-02,\n",
      "        -3.4925e-02,  5.9082e-03, -3.5899e-02, -3.0294e-02, -9.4526e-04,\n",
      "         1.7593e-02, -1.7755e-02, -4.2298e-04, -2.0246e-02,  3.2439e-02,\n",
      "        -1.0045e-02,  5.6742e-03,  8.1481e-03, -8.1610e-03,  2.4352e-02,\n",
      "         2.6720e-02,  3.0873e-02, -2.5027e-03, -2.1001e-02, -8.8214e-03,\n",
      "        -2.5502e-02,  2.9957e-02, -3.0905e-02, -2.2622e-02,  6.4358e-03,\n",
      "        -1.9230e-02, -6.4239e-03,  8.9452e-03, -1.0763e-02,  3.4651e-03,\n",
      "        -2.6847e-02, -1.5512e-02, -1.8187e-02, -1.4582e-02,  8.0771e-03,\n",
      "         1.0173e-02,  2.6958e-02, -3.2401e-02, -2.7458e-02, -3.6374e-02,\n",
      "        -2.2267e-02,  1.9729e-02, -5.6487e-03,  2.8269e-02,  3.8192e-03,\n",
      "        -3.2221e-02, -3.3558e-02, -1.0254e-02, -1.3053e-02, -3.1683e-02,\n",
      "        -2.5877e-02, -2.0158e-02, -2.9245e-02,  1.5037e-02, -2.7409e-02,\n",
      "         1.8234e-02, -2.4351e-02, -2.9966e-02, -4.1133e-03, -4.6073e-03])\n",
      "fc2.weight tensor([[ 0.0297,  0.0125,  0.0298,  ...,  0.0279,  0.0201,  0.0017],\n",
      "        [ 0.0334,  0.0317,  0.0098,  ...,  0.0114,  0.0169,  0.0153],\n",
      "        [ 0.0338, -0.0278, -0.0026,  ..., -0.0169, -0.0066, -0.0042],\n",
      "        ...,\n",
      "        [ 0.0336, -0.0410, -0.0119,  ..., -0.0266, -0.0233,  0.0223],\n",
      "        [ 0.0122, -0.0160, -0.0284,  ..., -0.0414, -0.0429,  0.0342],\n",
      "        [ 0.0083,  0.0149, -0.0083,  ..., -0.0077, -0.0175, -0.0263]])\n",
      "fc2.bias tensor([-0.0085, -0.0058,  0.0159, -0.0437, -0.0190,  0.0289,  0.0307,  0.0376,\n",
      "        -0.0426, -0.0189])\n"
     ]
    }
   ],
   "source": [
    "for name, param in mymodel.named_parameters():\n",
    "    if param.requires_grad:\n",
    "        print(name, param.data)"
   ]
  },
  {
   "cell_type": "code",
   "execution_count": null,
   "metadata": {},
   "outputs": [],
   "source": []
  }
 ],
 "metadata": {
  "kernelspec": {
   "display_name": "Python 3",
   "language": "python",
   "name": "python3"
  },
  "language_info": {
   "codemirror_mode": {
    "name": "ipython",
    "version": 3
   },
   "file_extension": ".py",
   "mimetype": "text/x-python",
   "name": "python",
   "nbconvert_exporter": "python",
   "pygments_lexer": "ipython3",
   "version": "3.7.6"
  }
 },
 "nbformat": 4,
 "nbformat_minor": 2
}
